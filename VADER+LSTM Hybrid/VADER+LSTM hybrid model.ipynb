{
 "cells": [
  {
   "cell_type": "code",
   "execution_count": 2,
   "id": "d47d9fde",
   "metadata": {},
   "outputs": [
    {
     "name": "stderr",
     "output_type": "stream",
     "text": [
      "[nltk_data] Downloading package stopwords to\n",
      "[nltk_data]     C:\\Users\\Kulreen\\AppData\\Roaming\\nltk_data...\n",
      "[nltk_data]   Package stopwords is already up-to-date!\n",
      "[nltk_data] Downloading package wordnet to\n",
      "[nltk_data]     C:\\Users\\Kulreen\\AppData\\Roaming\\nltk_data...\n",
      "[nltk_data]   Package wordnet is already up-to-date!\n",
      "[nltk_data] Downloading package omw-1.4 to\n",
      "[nltk_data]     C:\\Users\\Kulreen\\AppData\\Roaming\\nltk_data...\n",
      "[nltk_data]   Package omw-1.4 is already up-to-date!\n",
      "[nltk_data] Downloading package vader_lexicon to\n",
      "[nltk_data]     C:\\Users\\Kulreen\\AppData\\Roaming\\nltk_data...\n",
      "[nltk_data]   Package vader_lexicon is already up-to-date!\n"
     ]
    }
   ],
   "source": [
    "import pandas as pd\n",
    "import numpy as np\n",
    "import matplotlib.pyplot as plt\n",
    "import seaborn as sns\n",
    "import nltk\n",
    "\n",
    "nltk.download('stopwords')\n",
    "nltk.download('wordnet')\n",
    "nltk.download('omw-1.4')\n",
    "nltk.download('vader_lexicon')  \n",
    "\n",
    "from nltk.sentiment.vader import SentimentIntensityAnalyzer  \n",
    "from tensorflow.keras.preprocessing.text import Tokenizer\n",
    "from tensorflow.keras.preprocessing.sequence import pad_sequences\n",
    "from nltk.corpus import stopwords\n",
    "from tensorflow.keras.models import Model\n",
    "from tensorflow.keras.layers import Input, GlobalMaxPooling1D, Embedding, LSTM, Dense, Concatenate\n",
    "import tensorflow as tf\n",
    "from sklearn.metrics import classification_report, confusion_matrix\n",
    "from sklearn.model_selection import train_test_split\n",
    "import string\n",
    "import re\n",
    "from nltk.stem import WordNetLemmatizer\n",
    "from tensorflow.keras.callbacks import EarlyStopping\n",
    "import contractions"
   ]
  },
  {
   "cell_type": "code",
   "execution_count": 3,
   "id": "1fd9bb77",
   "metadata": {},
   "outputs": [],
   "source": [
    "df = pd.read_csv('D:/Sentiment Dataset/archive/training.1600000.processed.noemoticon.csv', encoding='latin-1', header=None)"
   ]
  },
  {
   "cell_type": "code",
   "execution_count": 4,
   "id": "49ab45a9",
   "metadata": {},
   "outputs": [],
   "source": [
    "df.columns = ['category', 'id', 'date', 'query', 'user', 'tweet']"
   ]
  },
  {
   "cell_type": "code",
   "execution_count": 5,
   "id": "e774faf8",
   "metadata": {},
   "outputs": [
    {
     "data": {
      "text/html": [
       "<div>\n",
       "<style scoped>\n",
       "    .dataframe tbody tr th:only-of-type {\n",
       "        vertical-align: middle;\n",
       "    }\n",
       "\n",
       "    .dataframe tbody tr th {\n",
       "        vertical-align: top;\n",
       "    }\n",
       "\n",
       "    .dataframe thead th {\n",
       "        text-align: right;\n",
       "    }\n",
       "</style>\n",
       "<table border=\"1\" class=\"dataframe\">\n",
       "  <thead>\n",
       "    <tr style=\"text-align: right;\">\n",
       "      <th></th>\n",
       "      <th>category</th>\n",
       "      <th>id</th>\n",
       "      <th>date</th>\n",
       "      <th>query</th>\n",
       "      <th>user</th>\n",
       "      <th>tweet</th>\n",
       "    </tr>\n",
       "  </thead>\n",
       "  <tbody>\n",
       "    <tr>\n",
       "      <th>0</th>\n",
       "      <td>0</td>\n",
       "      <td>1467810369</td>\n",
       "      <td>Mon Apr 06 22:19:45 PDT 2009</td>\n",
       "      <td>NO_QUERY</td>\n",
       "      <td>_TheSpecialOne_</td>\n",
       "      <td>@switchfoot http://twitpic.com/2y1zl - Awww, t...</td>\n",
       "    </tr>\n",
       "    <tr>\n",
       "      <th>1</th>\n",
       "      <td>0</td>\n",
       "      <td>1467810672</td>\n",
       "      <td>Mon Apr 06 22:19:49 PDT 2009</td>\n",
       "      <td>NO_QUERY</td>\n",
       "      <td>scotthamilton</td>\n",
       "      <td>is upset that he can't update his Facebook by ...</td>\n",
       "    </tr>\n",
       "    <tr>\n",
       "      <th>2</th>\n",
       "      <td>0</td>\n",
       "      <td>1467810917</td>\n",
       "      <td>Mon Apr 06 22:19:53 PDT 2009</td>\n",
       "      <td>NO_QUERY</td>\n",
       "      <td>mattycus</td>\n",
       "      <td>@Kenichan I dived many times for the ball. Man...</td>\n",
       "    </tr>\n",
       "    <tr>\n",
       "      <th>3</th>\n",
       "      <td>0</td>\n",
       "      <td>1467811184</td>\n",
       "      <td>Mon Apr 06 22:19:57 PDT 2009</td>\n",
       "      <td>NO_QUERY</td>\n",
       "      <td>ElleCTF</td>\n",
       "      <td>my whole body feels itchy and like its on fire</td>\n",
       "    </tr>\n",
       "    <tr>\n",
       "      <th>4</th>\n",
       "      <td>0</td>\n",
       "      <td>1467811193</td>\n",
       "      <td>Mon Apr 06 22:19:57 PDT 2009</td>\n",
       "      <td>NO_QUERY</td>\n",
       "      <td>Karoli</td>\n",
       "      <td>@nationwideclass no, it's not behaving at all....</td>\n",
       "    </tr>\n",
       "  </tbody>\n",
       "</table>\n",
       "</div>"
      ],
      "text/plain": [
       "   category          id                          date     query  \\\n",
       "0         0  1467810369  Mon Apr 06 22:19:45 PDT 2009  NO_QUERY   \n",
       "1         0  1467810672  Mon Apr 06 22:19:49 PDT 2009  NO_QUERY   \n",
       "2         0  1467810917  Mon Apr 06 22:19:53 PDT 2009  NO_QUERY   \n",
       "3         0  1467811184  Mon Apr 06 22:19:57 PDT 2009  NO_QUERY   \n",
       "4         0  1467811193  Mon Apr 06 22:19:57 PDT 2009  NO_QUERY   \n",
       "\n",
       "              user                                              tweet  \n",
       "0  _TheSpecialOne_  @switchfoot http://twitpic.com/2y1zl - Awww, t...  \n",
       "1    scotthamilton  is upset that he can't update his Facebook by ...  \n",
       "2         mattycus  @Kenichan I dived many times for the ball. Man...  \n",
       "3          ElleCTF    my whole body feels itchy and like its on fire   \n",
       "4           Karoli  @nationwideclass no, it's not behaving at all....  "
      ]
     },
     "execution_count": 5,
     "metadata": {},
     "output_type": "execute_result"
    }
   ],
   "source": [
    "df.head()"
   ]
  },
  {
   "cell_type": "code",
   "execution_count": 6,
   "id": "1a677815",
   "metadata": {},
   "outputs": [],
   "source": [
    "#0-Negative Sentiment\n",
    "#4-Positive Sentiment\n",
    "#We convert 4 to 1\n",
    "\n",
    "df['category'] = df['category'].replace(4, 1)"
   ]
  },
  {
   "cell_type": "code",
   "execution_count": 7,
   "id": "4e89d645",
   "metadata": {},
   "outputs": [
    {
     "data": {
      "text/plain": [
       "<Axes: xlabel='category'>"
      ]
     },
     "execution_count": 7,
     "metadata": {},
     "output_type": "execute_result"
    },
    {
     "data": {
      "image/png": "[encoded data removed]",
      "text/plain": [
       "<Figure size 640x480 with 1 Axes>"
      ]
     },
     "metadata": {},
     "output_type": "display_data"
    }
   ],
   "source": [
    "# a bar chart showing the count of comments in each category\n",
    "df['category'].value_counts().plot(kind='bar')"
   ]
  },
  {
   "cell_type": "code",
   "execution_count": 8,
   "id": "559cdb8a",
   "metadata": {},
   "outputs": [],
   "source": [
    "df = df[['category', 'tweet']]"
   ]
  },
  {
   "cell_type": "code",
   "execution_count": 9,
   "id": "eadc2395",
   "metadata": {},
   "outputs": [],
   "source": [
    "df['length'] = df['tweet'].str.len()"
   ]
  },
  {
   "cell_type": "code",
   "execution_count": 10,
   "id": "c39c212c",
   "metadata": {},
   "outputs": [
    {
     "name": "stdout",
     "output_type": "stream",
     "text": [
      "<class 'pandas.core.frame.DataFrame'>\n",
      "RangeIndex: 1600000 entries, 0 to 1599999\n",
      "Data columns (total 3 columns):\n",
      " #   Column    Non-Null Count    Dtype \n",
      "---  ------    --------------    ----- \n",
      " 0   category  1600000 non-null  int64 \n",
      " 1   tweet     1600000 non-null  object\n",
      " 2   length    1600000 non-null  int64 \n",
      "dtypes: int64(2), object(1)\n",
      "memory usage: 36.6+ MB\n"
     ]
    }
   ],
   "source": [
    "df.info()"
   ]
  },
  {
   "cell_type": "code",
   "execution_count": 11,
   "id": "214f53b0",
   "metadata": {},
   "outputs": [
    {
     "data": {
      "text/html": [
       "<div>\n",
       "<style scoped>\n",
       "    .dataframe tbody tr th:only-of-type {\n",
       "        vertical-align: middle;\n",
       "    }\n",
       "\n",
       "    .dataframe tbody tr th {\n",
       "        vertical-align: top;\n",
       "    }\n",
       "\n",
       "    .dataframe thead th {\n",
       "        text-align: right;\n",
       "    }\n",
       "</style>\n",
       "<table border=\"1\" class=\"dataframe\">\n",
       "  <thead>\n",
       "    <tr style=\"text-align: right;\">\n",
       "      <th></th>\n",
       "      <th>count</th>\n",
       "      <th>mean</th>\n",
       "      <th>std</th>\n",
       "      <th>min</th>\n",
       "      <th>25%</th>\n",
       "      <th>50%</th>\n",
       "      <th>75%</th>\n",
       "      <th>max</th>\n",
       "    </tr>\n",
       "  </thead>\n",
       "  <tbody>\n",
       "    <tr>\n",
       "      <th>category</th>\n",
       "      <td>1600000.0</td>\n",
       "      <td>0.500000</td>\n",
       "      <td>0.500000</td>\n",
       "      <td>0.0</td>\n",
       "      <td>0.0</td>\n",
       "      <td>0.5</td>\n",
       "      <td>1.0</td>\n",
       "      <td>1.0</td>\n",
       "    </tr>\n",
       "    <tr>\n",
       "      <th>length</th>\n",
       "      <td>1600000.0</td>\n",
       "      <td>74.090111</td>\n",
       "      <td>36.441139</td>\n",
       "      <td>6.0</td>\n",
       "      <td>44.0</td>\n",
       "      <td>69.0</td>\n",
       "      <td>104.0</td>\n",
       "      <td>374.0</td>\n",
       "    </tr>\n",
       "  </tbody>\n",
       "</table>\n",
       "</div>"
      ],
      "text/plain": [
       "              count       mean        std  min   25%   50%    75%    max\n",
       "category  1600000.0   0.500000   0.500000  0.0   0.0   0.5    1.0    1.0\n",
       "length    1600000.0  74.090111  36.441139  6.0  44.0  69.0  104.0  374.0"
      ]
     },
     "execution_count": 11,
     "metadata": {},
     "output_type": "execute_result"
    }
   ],
   "source": [
    "df.describe().transpose()"
   ]
  },
  {
   "cell_type": "code",
   "execution_count": 12,
   "id": "d93043ea",
   "metadata": {},
   "outputs": [
    {
     "data": {
      "text/plain": [
       "category    0\n",
       "tweet       0\n",
       "length      0\n",
       "dtype: int64"
      ]
     },
     "execution_count": 12,
     "metadata": {},
     "output_type": "execute_result"
    }
   ],
   "source": [
    "#for null values\n",
    "df.isnull().sum()"
   ]
  },
  {
   "cell_type": "code",
   "execution_count": 13,
   "id": "877972f7",
   "metadata": {},
   "outputs": [],
   "source": [
    "stop_words = set(stopwords.words('english'))\n",
    "lemmatizer = WordNetLemmatizer()"
   ]
  },
  {
   "cell_type": "code",
   "execution_count": 14,
   "id": "6a06b732",
   "metadata": {},
   "outputs": [],
   "source": [
    "#replacing url with string\n",
    "def replace_url(text):\n",
    "    return re.sub(r'https?:\\/\\/\\S+|www\\.\\S+', 'URL', text)\n",
    "\n",
    "#removing html\n",
    "def remove_html(text):\n",
    "    return re.sub('<.*?>', '', text)\n",
    "\n",
    "#replacing mentions with string user\n",
    "def replace_mentions(text):\n",
    "    return re.sub('@\\S*','user',text,flags=re.IGNORECASE)\n",
    "\n",
    "#replacing number with string number\n",
    "def replace_num(text):\n",
    "    return re.sub(r'\\d+', 'NUMBER', text)\n",
    "\n",
    "def replace_heart(text):\n",
    "  return re.sub('<3', 'HEART', text)\n",
    "\n",
    "def remove_stopwords(text):\n",
    "  text= ' '.join([word for word in text.split() if word not in stopwords.words('english')])\n",
    "  return text\n",
    "\n",
    "def remove_punctuations(text):\n",
    "    text=''.join([word for word in text if word not in string.punctuation])\n",
    "    return text\n",
    "\n",
    "def remove_alphanumeric(text):\n",
    "    return re.sub('\\w*\\d+\\w*','',text)\n",
    "\n",
    "#reducing words to their root form\n",
    "def lemmatization(text):\n",
    "  lm = WordNetLemmatizer()\n",
    "  text= ' '.join([lm.lemmatize(word, pos='v') for word in text.split()])\n",
    "  return text"
   ]
  },
  {
   "cell_type": "code",
   "execution_count": 15,
   "id": "584baacc",
   "metadata": {},
   "outputs": [],
   "source": [
    "#For LSTM\n",
    "def clean_text(text):\n",
    "  text = str(text).lower()\n",
    "  text = contractions.fix(text)\n",
    "  text =replace_url(text)\n",
    "  text = remove_punctuations(text)\n",
    "  text = remove_alphanumeric(text)\n",
    "  text = replace_heart(text)\n",
    "  text = remove_stopwords(text)\n",
    "  text = remove_html(text)\n",
    "  text = replace_mentions(text)\n",
    "  text = lemmatization(text)\n",
    "  text = replace_num(text)\n",
    "  return text"
   ]
  },
  {
   "cell_type": "code",
   "execution_count": 16,
   "id": "fed0d214",
   "metadata": {},
   "outputs": [],
   "source": [
    "#For VADER\n",
    "def minimal_clean_text(text):\n",
    "    text = str(text).lower()\n",
    "    text = contractions.fix(text)\n",
    "    text = replace_url(text)\n",
    "    text = replace_mentions(text)\n",
    "    text = replace_heart(text)\n",
    "    return text"
   ]
  },
  {
   "cell_type": "code",
   "execution_count": 17,
   "id": "71be4efb",
   "metadata": {},
   "outputs": [],
   "source": [
    "df['cleaned_tweet'] = df['tweet'].apply(clean_text)       \n",
    "df['vader_text'] = df['tweet'].apply(minimal_clean_text)  "
   ]
  },
  {
   "cell_type": "code",
   "execution_count": 18,
   "id": "5ef49a5f",
   "metadata": {},
   "outputs": [
    {
     "data": {
      "text/plain": [
       "0          switchfoot URL awww bummer shoulda get david c...\n",
       "1          upset cannot update facebook texting might cry...\n",
       "2          kenichan dive many time ball manage save rest ...\n",
       "3                            whole body feel itchy like fire\n",
       "4                      nationwideclass behave mad cannot see\n",
       "                                 ...                        \n",
       "1599995                           wake school best feel ever\n",
       "1599996       thewdbcom cool hear old walt interview â« URL\n",
       "1599997                       ready mojo makeover ask detail\n",
       "1599998      happy birthday boo alll time tupac amaru shakur\n",
       "1599999          happy charitytuesday thenspcc sparkscharity\n",
       "Name: cleaned_tweet, Length: 1600000, dtype: object"
      ]
     },
     "execution_count": 18,
     "metadata": {},
     "output_type": "execute_result"
    }
   ],
   "source": [
    "df['cleaned_tweet']"
   ]
  },
  {
   "cell_type": "code",
   "execution_count": 19,
   "id": "9a097bf8",
   "metadata": {},
   "outputs": [
    {
     "data": {
      "text/html": [
       "<div>\n",
       "<style scoped>\n",
       "    .dataframe tbody tr th:only-of-type {\n",
       "        vertical-align: middle;\n",
       "    }\n",
       "\n",
       "    .dataframe tbody tr th {\n",
       "        vertical-align: top;\n",
       "    }\n",
       "\n",
       "    .dataframe thead th {\n",
       "        text-align: right;\n",
       "    }\n",
       "</style>\n",
       "<table border=\"1\" class=\"dataframe\">\n",
       "  <thead>\n",
       "    <tr style=\"text-align: right;\">\n",
       "      <th></th>\n",
       "      <th>tweet</th>\n",
       "      <th>vader_score</th>\n",
       "    </tr>\n",
       "  </thead>\n",
       "  <tbody>\n",
       "    <tr>\n",
       "      <th>0</th>\n",
       "      <td>@switchfoot http://twitpic.com/2y1zl - Awww, t...</td>\n",
       "      <td>-0.2023</td>\n",
       "    </tr>\n",
       "    <tr>\n",
       "      <th>1</th>\n",
       "      <td>is upset that he can't update his Facebook by ...</td>\n",
       "      <td>-0.7500</td>\n",
       "    </tr>\n",
       "    <tr>\n",
       "      <th>2</th>\n",
       "      <td>@Kenichan I dived many times for the ball. Man...</td>\n",
       "      <td>0.4939</td>\n",
       "    </tr>\n",
       "    <tr>\n",
       "      <th>3</th>\n",
       "      <td>my whole body feels itchy and like its on fire</td>\n",
       "      <td>-0.2500</td>\n",
       "    </tr>\n",
       "    <tr>\n",
       "      <th>4</th>\n",
       "      <td>@nationwideclass no, it's not behaving at all....</td>\n",
       "      <td>-0.6597</td>\n",
       "    </tr>\n",
       "  </tbody>\n",
       "</table>\n",
       "</div>"
      ],
      "text/plain": [
       "                                               tweet  vader_score\n",
       "0  @switchfoot http://twitpic.com/2y1zl - Awww, t...      -0.2023\n",
       "1  is upset that he can't update his Facebook by ...      -0.7500\n",
       "2  @Kenichan I dived many times for the ball. Man...       0.4939\n",
       "3    my whole body feels itchy and like its on fire       -0.2500\n",
       "4  @nationwideclass no, it's not behaving at all....      -0.6597"
      ]
     },
     "execution_count": 19,
     "metadata": {},
     "output_type": "execute_result"
    }
   ],
   "source": [
    "sid = SentimentIntensityAnalyzer()\n",
    "\n",
    "def get_vader_sentiment(text):\n",
    "    return sid.polarity_scores(text)['compound']\n",
    "\n",
    "df['vader_score'] = df['vader_text'].apply(get_vader_sentiment)\n",
    "df[['tweet', 'vader_score']].head()"
   ]
  },
  {
   "cell_type": "code",
   "execution_count": 20,
   "id": "c90bcb37",
   "metadata": {},
   "outputs": [],
   "source": [
    "MAX_VOCAB = 70000  \n",
    "MAX_LEN = 50\n",
    "\n",
    "tokenizer = Tokenizer(num_words=MAX_VOCAB, oov_token='<OOV>')\n",
    "tokenizer.fit_on_texts(df['cleaned_tweet'])\n",
    "\n",
    "X_seq = tokenizer.texts_to_sequences(df['cleaned_tweet'])\n",
    "X_pad = pad_sequences(X_seq, maxlen=MAX_LEN, padding='post')"
   ]
  },
  {
   "cell_type": "code",
   "execution_count": 21,
   "id": "6854b20a",
   "metadata": {},
   "outputs": [
    {
     "name": "stdout",
     "output_type": "stream",
     "text": [
      "Total unique words: 686910\n",
      "{'<OOV>': 1, 'go': 2, 'get': 3, 'good': 4, 'work': 5, 'day': 6, 'like': 7, 'love': 8, 'url': 9, 'want': 10, 'cannot': 11, 'today': 12, 'time': 13, 'know': 14, 'think': 15, 'thank': 16, 'see': 17, 'miss': 18, 'back': 19, 'make': 20, 'lol': 21, 'one': 22, 'feel': 23, 'really': 24, 'come': 25, 'watch': 26, 'need': 27, 'still': 28, 'would': 29, 'new': 30, 'night': 31, 'well': 32, 'amp': 33, 'home': 34, 'look': 35, 'oh': 36, 'much': 37, 'last': 38, 'say': 39, 'twitter': 40, 'tomorrow': 41, 'sleep': 42, 'wish': 43, 'morning': 44, 'hope': 45, 'great': 46, 'take': 47, 'wait': 48, 'though': 49, 'haha': 50, 'way': 51, 'sad': 52, 'could': 53, 'fun': 54, 'try': 55, 'right': 56, 'bad': 57, 'happy': 58, 'sorry': 59, 'leave': 60, 'tonight': 61, 'find': 62, 'people': 63, 'nice': 64, 'better': 65, 'even': 66, 'start': 67, 'bed': 68, 'yeah': 69, 'tweet': 70, 'week': 71, 'show': 72, 'school': 73, 'us': 74, 'hate': 75, 'play': 76, 'guy': 77, 'weekend': 78, 'days': 79, 'follow': 80, 'hey': 81, 'let': 82, 'next': 83, 'soon': 84, 'eat': 85, 'yes': 86, 'use': 87, 'awesome': 88, 'never': 89, 'long': 90, 'little': 91, 'please': 92, 'rain': 93, 'tire': 94, 'first': 95, 'tell': 96, 'everyone': 97, 'best': 98, 'hear': 99, 'suck': 100}\n"
     ]
    }
   ],
   "source": [
    "# Total unique words \n",
    "V = len(tokenizer.word_index)\n",
    "print(\"Total unique words:\", V)\n",
    "\n",
    "# first 100 word-index pairs\n",
    "first_100_words = dict(list(tokenizer.word_index.items())[:100])\n",
    "print(first_100_words)"
   ]
  },
  {
   "cell_type": "code",
   "execution_count": 22,
   "id": "8c8720fa",
   "metadata": {},
   "outputs": [],
   "source": [
    "X_lstm = X_pad\n",
    "X_vader = df['vader_score'].values.reshape(-1, 1)\n",
    "y = df['category'].values"
   ]
  },
  {
   "cell_type": "code",
   "execution_count": 23,
   "id": "301135cc",
   "metadata": {},
   "outputs": [],
   "source": [
    "X_lstm_tv, X_lstm_test, X_vader_tv, X_vader_test, y_tv, y_test = train_test_split(\n",
    "    X_lstm, X_vader, y, test_size=0.15, random_state=42\n",
    ")\n",
    "\n",
    "X_lstm_train, X_lstm_val, X_vader_train, X_vader_val, y_train, y_val = train_test_split(\n",
    "    X_lstm_tv, X_vader_tv, y_tv, test_size=0.176, random_state=42\n",
    ")"
   ]
  },
  {
   "cell_type": "code",
   "execution_count": 24,
   "id": "c8670e1f",
   "metadata": {},
   "outputs": [
    {
     "name": "stderr",
     "output_type": "stream",
     "text": [
      "c:\\Users\\Kulreen\\anaconda3\\envs\\tf_env\\lib\\site-packages\\keras\\src\\layers\\core\\embedding.py:90: UserWarning: Argument `input_length` is deprecated. Just remove it.\n",
      "  warnings.warn(\n"
     ]
    }
   ],
   "source": [
    "from tensorflow.keras.layers import Attention, Permute, Multiply\n",
    "from tensorflow.keras.layers import Dropout\n",
    "from tensorflow.keras.callbacks import EarlyStopping, ReduceLROnPlateau\n",
    "\n",
    "embedding_dim = 100\n",
    "embedding_index = {}\n",
    "with open(\"D:/Sentiment Dataset/glove.6B.100d.txt\", encoding='utf8') as f:\n",
    "    for line in f:\n",
    "        values = line.split()\n",
    "        word = values[0]\n",
    "        coeffs = np.asarray(values[1:], dtype='float32')\n",
    "        embedding_index[word] = coeffs\n",
    "\n",
    "embedding_matrix = np.zeros((MAX_VOCAB, embedding_dim))\n",
    "for word, i in tokenizer.word_index.items():\n",
    "    if i < MAX_VOCAB:\n",
    "        embedding_vector = embedding_index.get(word)\n",
    "        if embedding_vector is not None:\n",
    "            embedding_matrix[i] = embedding_vector\n",
    "\n",
    "input_lstm = Input(shape=(MAX_LEN,))\n",
    "embedding = Embedding(input_dim=MAX_VOCAB, output_dim=embedding_dim, weights=[embedding_matrix],\n",
    "                      input_length=MAX_LEN, trainable=False)(input_lstm)\n",
    "lstm_out = LSTM(64, return_sequences=True)(embedding)\n",
    "\n",
    "attention = Dense(1, activation='tanh')(lstm_out)\n",
    "attention = tf.keras.layers.Flatten()(attention)\n",
    "attention_weights = tf.keras.layers.Activation('softmax')(attention)\n",
    "attention_weights = tf.keras.layers.RepeatVector(64)(attention_weights)\n",
    "attention_weights = tf.keras.layers.Permute([2, 1])(attention_weights)\n",
    "\n",
    "attended_output = tf.keras.layers.Multiply()([lstm_out, attention_weights])\n",
    "x = GlobalMaxPooling1D()(attended_output)\n",
    "\n",
    "x = Dropout(0.3)(x)  \n",
    "\n",
    "input_vader = Input(shape=(1,))\n",
    "y = Dense(16, activation='relu')(input_vader)\n",
    "y = Dense(8, activation='relu')(y)\n",
    "\n",
    "combined = Concatenate()([x, y])\n",
    "z = Dense(64, activation='relu')(combined)\n",
    "z = Dense(1, activation='sigmoid')(z)\n",
    "\n",
    "model = Model(inputs=[input_lstm, input_vader], outputs=z)"
   ]
  },
  {
   "cell_type": "code",
   "execution_count": 25,
   "id": "3fe59105",
   "metadata": {},
   "outputs": [],
   "source": [
    "early_stop = EarlyStopping(monitor='val_loss', patience=3, restore_best_weights=True)\n",
    "lr_scheduler = ReduceLROnPlateau(monitor='val_loss', factor=0.5, patience=2, verbose=1)\n",
    "\n",
    "optimizer = tf.keras.optimizers.Adam(clipnorm=1.0)\n",
    "\n",
    "model.compile(optimizer=optimizer, loss='binary_crossentropy', metrics=['accuracy'])"
   ]
  },
  {
   "cell_type": "code",
   "execution_count": 26,
   "id": "c2f31c57",
   "metadata": {},
   "outputs": [
    {
     "name": "stdout",
     "output_type": "stream",
     "text": [
      "Epoch 1/20\n",
      "\u001b[1m35020/35020\u001b[0m \u001b[32m━━━━━━━━━━━━━━━━━━━━\u001b[0m\u001b[37m\u001b[0m \u001b[1m831s\u001b[0m 24ms/step - accuracy: 0.7479 - loss: 0.5093 - val_accuracy: 0.7752 - val_loss: 0.4693 - learning_rate: 0.0010\n",
      "Epoch 2/20\n",
      "\u001b[1m35020/35020\u001b[0m \u001b[32m━━━━━━━━━━━━━━━━━━━━\u001b[0m\u001b[37m\u001b[0m \u001b[1m834s\u001b[0m 24ms/step - accuracy: 0.7783 - loss: 0.4627 - val_accuracy: 0.7831 - val_loss: 0.4574 - learning_rate: 0.0010\n",
      "Epoch 3/20\n",
      "\u001b[1m35020/35020\u001b[0m \u001b[32m━━━━━━━━━━━━━━━━━━━━\u001b[0m\u001b[37m\u001b[0m \u001b[1m953s\u001b[0m 26ms/step - accuracy: 0.7857 - loss: 0.4518 - val_accuracy: 0.7848 - val_loss: 0.4537 - learning_rate: 0.0010\n",
      "Epoch 4/20\n",
      "\u001b[1m35020/35020\u001b[0m \u001b[32m━━━━━━━━━━━━━━━━━━━━\u001b[0m\u001b[37m\u001b[0m \u001b[1m644s\u001b[0m 18ms/step - accuracy: 0.7895 - loss: 0.4449 - val_accuracy: 0.7858 - val_loss: 0.4524 - learning_rate: 0.0010\n",
      "Epoch 5/20\n",
      "\u001b[1m35020/35020\u001b[0m \u001b[32m━━━━━━━━━━━━━━━━━━━━\u001b[0m\u001b[37m\u001b[0m \u001b[1m500s\u001b[0m 14ms/step - accuracy: 0.7928 - loss: 0.4392 - val_accuracy: 0.7860 - val_loss: 0.4516 - learning_rate: 0.0010\n",
      "Epoch 6/20\n",
      "\u001b[1m35020/35020\u001b[0m \u001b[32m━━━━━━━━━━━━━━━━━━━━\u001b[0m\u001b[37m\u001b[0m \u001b[1m691s\u001b[0m 20ms/step - accuracy: 0.7951 - loss: 0.4367 - val_accuracy: 0.7841 - val_loss: 0.4567 - learning_rate: 0.0010\n",
      "Epoch 7/20\n",
      "\u001b[1m35017/35020\u001b[0m \u001b[32m━━━━━━━━━━━━━━━━━━━\u001b[0m\u001b[37m━\u001b[0m \u001b[1m0s\u001b[0m 14ms/step - accuracy: 0.7976 - loss: 0.4328\n",
      "Epoch 7: ReduceLROnPlateau reducing learning rate to 0.0005000000237487257.\n",
      "\u001b[1m35020/35020\u001b[0m \u001b[32m━━━━━━━━━━━━━━━━━━━━\u001b[0m\u001b[37m\u001b[0m \u001b[1m530s\u001b[0m 15ms/step - accuracy: 0.7976 - loss: 0.4328 - val_accuracy: 0.7871 - val_loss: 0.4526 - learning_rate: 0.0010\n",
      "Epoch 8/20\n",
      "\u001b[1m35020/35020\u001b[0m \u001b[32m━━━━━━━━━━━━━━━━━━━━\u001b[0m\u001b[37m\u001b[0m \u001b[1m675s\u001b[0m 19ms/step - accuracy: 0.8016 - loss: 0.4254 - val_accuracy: 0.7880 - val_loss: 0.4502 - learning_rate: 5.0000e-04\n",
      "Epoch 9/20\n",
      "\u001b[1m35020/35020\u001b[0m \u001b[32m━━━━━━━━━━━━━━━━━━━━\u001b[0m\u001b[37m\u001b[0m \u001b[1m546s\u001b[0m 16ms/step - accuracy: 0.8032 - loss: 0.4228 - val_accuracy: 0.7873 - val_loss: 0.4509 - learning_rate: 5.0000e-04\n",
      "Epoch 10/20\n",
      "\u001b[1m35016/35020\u001b[0m \u001b[32m━━━━━━━━━━━━━━━━━━━\u001b[0m\u001b[37m━\u001b[0m \u001b[1m0s\u001b[0m 13ms/step - accuracy: 0.8056 - loss: 0.4201\n",
      "Epoch 10: ReduceLROnPlateau reducing learning rate to 0.0002500000118743628.\n",
      "\u001b[1m35020/35020\u001b[0m \u001b[32m━━━━━━━━━━━━━━━━━━━━\u001b[0m\u001b[37m\u001b[0m \u001b[1m487s\u001b[0m 14ms/step - accuracy: 0.8056 - loss: 0.4201 - val_accuracy: 0.7866 - val_loss: 0.4513 - learning_rate: 5.0000e-04\n",
      "Epoch 11/20\n",
      "\u001b[1m35020/35020\u001b[0m \u001b[32m━━━━━━━━━━━━━━━━━━━━\u001b[0m\u001b[37m\u001b[0m \u001b[1m488s\u001b[0m 14ms/step - accuracy: 0.8077 - loss: 0.4147 - val_accuracy: 0.7872 - val_loss: 0.4519 - learning_rate: 2.5000e-04\n"
     ]
    }
   ],
   "source": [
    "history = model.fit(\n",
    "    [X_lstm_train, X_vader_train], y_train,\n",
    "    validation_data=([X_lstm_val, X_vader_val], y_val),\n",
    "    epochs=20,\n",
    "    batch_size=32,\n",
    "    callbacks=[early_stop, lr_scheduler]  \n",
    ")"
   ]
  },
  {
   "cell_type": "code",
   "execution_count": 27,
   "id": "4895b5a5",
   "metadata": {},
   "outputs": [
    {
     "name": "stdout",
     "output_type": "stream",
     "text": [
      "\u001b[1m7500/7500\u001b[0m \u001b[32m━━━━━━━━━━━━━━━━━━━━\u001b[0m\u001b[37m\u001b[0m \u001b[1m44s\u001b[0m 6ms/step - accuracy: 0.7869 - loss: 0.4490\n",
      "Test Accuracy: 0.7867\n"
     ]
    }
   ],
   "source": [
    "loss, accuracy = model.evaluate([X_lstm_test, X_vader_test], y_test)\n",
    "print(f\"Test Accuracy: {accuracy:.4f}\")"
   ]
  },
  {
   "cell_type": "code",
   "execution_count": 28,
   "id": "2ea50af0",
   "metadata": {},
   "outputs": [
    {
     "name": "stdout",
     "output_type": "stream",
     "text": [
      "\u001b[1m7500/7500\u001b[0m \u001b[32m━━━━━━━━━━━━━━━━━━━━\u001b[0m\u001b[37m\u001b[0m \u001b[1m41s\u001b[0m 5ms/step\n",
      "              precision    recall  f1-score   support\n",
      "\n",
      "           0       0.79      0.78      0.79    119825\n",
      "           1       0.79      0.79      0.79    120175\n",
      "\n",
      "    accuracy                           0.79    240000\n",
      "   macro avg       0.79      0.79      0.79    240000\n",
      "weighted avg       0.79      0.79      0.79    240000\n",
      "\n"
     ]
    }
   ],
   "source": [
    "\n",
    "y_pred_prob = model.predict([X_lstm_test, X_vader_test])\n",
    "y_pred = (y_pred_prob > 0.5).astype(int)\n",
    "\n",
    "print(classification_report(y_test, y_pred))\n",
    "\n"
   ]
  },
  {
   "cell_type": "code",
   "execution_count": 29,
   "id": "c28b0637",
   "metadata": {},
   "outputs": [
    {
     "data": {
      "image/png": "[encoded data removed]",
      "text/plain": [
       "<Figure size 640x480 with 2 Axes>"
      ]
     },
     "metadata": {},
     "output_type": "display_data"
    }
   ],
   "source": [
    "cm = confusion_matrix(y_test, y_pred)\n",
    "sns.heatmap(cm, annot=True, fmt='d', cmap='Blues', xticklabels=['Negative', 'Positive'], yticklabels=['Negative', 'Positive'])\n",
    "plt.xlabel('Predicted')\n",
    "plt.ylabel('Actual')\n",
    "plt.title('Confusion Matrix')\n",
    "plt.show()\n"
   ]
  },
  {
   "cell_type": "code",
   "execution_count": 30,
   "id": "754c7b1c",
   "metadata": {},
   "outputs": [
    {
     "name": "stderr",
     "output_type": "stream",
     "text": [
      "WARNING:absl:You are saving your model as an HDF5 file via `model.save()` or `keras.saving.save_model(model)`. This file format is considered legacy. We recommend using instead the native Keras format, e.g. `model.save('my_model.keras')` or `keras.saving.save_model(model, 'my_model.keras')`. \n"
     ]
    }
   ],
   "source": [
    "model.save('VADER_lstm_sentiment_model1.h5')"
   ]
  },
  {
   "cell_type": "code",
   "execution_count": 31,
   "id": "f308318c",
   "metadata": {},
   "outputs": [
    {
     "data": {
      "text/plain": [
       "<matplotlib.legend.Legend at 0x23ddd09f4f0>"
      ]
     },
     "execution_count": 31,
     "metadata": {},
     "output_type": "execute_result"
    },
    {
     "data": {
      "image/png": "[encoded data removed]",
      "text/plain": [
       "<Figure size 640x480 with 1 Axes>"
      ]
     },
     "metadata": {},
     "output_type": "display_data"
    }
   ],
   "source": [
    "plt.plot(history.history['accuracy'], label='val_acc')\n",
    "plt.plot(history.history['val_accuracy'], label='accuracy')\n",
    "plt.legend()"
   ]
  },
  {
   "cell_type": "code",
   "execution_count": 32,
   "id": "83fdee76",
   "metadata": {},
   "outputs": [
    {
     "data": {
      "text/plain": [
       "<matplotlib.legend.Legend at 0x23df1f01d50>"
      ]
     },
     "execution_count": 32,
     "metadata": {},
     "output_type": "execute_result"
    },
    {
     "data": {
      "image/png": "[encoded data removed]",
      "text/plain": [
       "<Figure size 640x480 with 1 Axes>"
      ]
     },
     "metadata": {},
     "output_type": "display_data"
    }
   ],
   "source": [
    "plt.plot(history.history['loss'], label='val_loss')\n",
    "plt.plot(history.history['val_loss'], label='loss')\n",
    "plt.legend()"
   ]
  },
  {
   "cell_type": "code",
   "execution_count": 33,
   "id": "667f304e",
   "metadata": {},
   "outputs": [
    {
     "name": "stdout",
     "output_type": "stream",
     "text": [
      "\u001b[1m7500/7500\u001b[0m \u001b[32m━━━━━━━━━━━━━━━━━━━━\u001b[0m\u001b[37m\u001b[0m \u001b[1m39s\u001b[0m 5ms/step\n",
      "ROC AUC Score: 0.8708\n"
     ]
    },
    {
     "data": {
      "image/png": "[encoded data removed]",
      "text/plain": [
       "<Figure size 640x480 with 1 Axes>"
      ]
     },
     "metadata": {},
     "output_type": "display_data"
    }
   ],
   "source": [
    "from sklearn.metrics import roc_auc_score, roc_curve\n",
    "\n",
    "# Get predicted probabilities\n",
    "y_prob = model.predict([X_lstm_test, X_vader_test])\n",
    "\n",
    "# ROC AUC Score\n",
    "roc_score = roc_auc_score(y_test, y_prob)\n",
    "print(f\"ROC AUC Score: {roc_score:.4f}\")\n",
    "\n",
    "# ROC Curve\n",
    "fpr, tpr, thresholds = roc_curve(y_test, y_prob)\n",
    "plt.figure()\n",
    "plt.plot(fpr, tpr, label=f'ROC curve (AUC = {roc_score:.2f})')\n",
    "plt.plot([0, 1], [0, 1], 'k--')\n",
    "plt.xlabel('False Positive Rate')\n",
    "plt.ylabel('True Positive Rate')\n",
    "plt.title('ROC Curve')\n",
    "plt.legend()\n",
    "plt.grid()\n",
    "plt.show()\n"
   ]
  }
 ],
 "metadata": {
  "kernelspec": {
   "display_name": "tf_env",
   "language": "python",
   "name": "python3"
  },
  "language_info": {
   "codemirror_mode": {
    "name": "ipython",
    "version": 3
   },
   "file_extension": ".py",
   "mimetype": "text/x-python",
   "name": "python",
   "nbconvert_exporter": "python",
   "pygments_lexer": "ipython3",
   "version": "3.10.16"
  }
 },
 "nbformat": 4,
 "nbformat_minor": 5
}
